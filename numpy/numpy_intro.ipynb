{
  "nbformat": 4,
  "nbformat_minor": 0,
  "metadata": {
    "colab": {
      "provenance": [],
      "authorship_tag": "ABX9TyPK7Ma67W28mENP8MEUAXYI",
      "include_colab_link": true
    },
    "kernelspec": {
      "name": "python3",
      "display_name": "Python 3"
    },
    "language_info": {
      "name": "python"
    }
  },
  "cells": [
    {
      "cell_type": "markdown",
      "metadata": {
        "id": "view-in-github",
        "colab_type": "text"
      },
      "source": [
        "<a href=\"https://colab.research.google.com/github/cbysousa/python-libraries/blob/main/numpy/numpy_intro.ipynb\" target=\"_parent\"><img src=\"https://colab.research.google.com/assets/colab-badge.svg\" alt=\"Open In Colab\"/></a>"
      ]
    },
    {
      "cell_type": "markdown",
      "source": [
        "importando a biblioteca numpy"
      ],
      "metadata": {
        "id": "ngScHnJdK4jw"
      }
    },
    {
      "cell_type": "code",
      "execution_count": null,
      "metadata": {
        "id": "Utt7a3AUJ28w"
      },
      "outputs": [],
      "source": [
        "import numpy as np"
      ]
    },
    {
      "cell_type": "markdown",
      "source": [
        "criando um array com todos os elementos iguais a zero"
      ],
      "metadata": {
        "id": "K8MNisUlK0_q"
      }
    },
    {
      "cell_type": "code",
      "source": [
        "a = np.zeros(3)\n",
        "a"
      ],
      "metadata": {
        "colab": {
          "base_uri": "https://localhost:8080/"
        },
        "id": "G6E76EvAJ_4g",
        "outputId": "71766348-f2cb-4790-827d-822de903ad89"
      },
      "execution_count": null,
      "outputs": [
        {
          "output_type": "execute_result",
          "data": {
            "text/plain": [
              "array([0., 0., 0.])"
            ]
          },
          "metadata": {},
          "execution_count": 4
        }
      ]
    },
    {
      "cell_type": "markdown",
      "source": [
        "usando o atributo *dtype* para retornar os tipos dos elementos do array\n",
        "\n"
      ],
      "metadata": {
        "id": "gLS8EoyrK813"
      }
    },
    {
      "cell_type": "code",
      "source": [
        "a.dtype\n",
        "#or\n",
        "print(a.dtype)"
      ],
      "metadata": {
        "colab": {
          "base_uri": "https://localhost:8080/"
        },
        "id": "9I0XGJvMKIXY",
        "outputId": "6c811120-fa05-4596-9b03-3bae14d19a55"
      },
      "execution_count": null,
      "outputs": [
        {
          "output_type": "stream",
          "name": "stdout",
          "text": [
            "float64\n"
          ]
        }
      ]
    },
    {
      "cell_type": "code",
      "source": [
        "b = np.zeros(10)\n",
        "b"
      ],
      "metadata": {
        "colab": {
          "base_uri": "https://localhost:8080/"
        },
        "id": "MLjZ8PIILyc5",
        "outputId": "71816164-a91f-45d5-91ac-f5bacf134bf4"
      },
      "execution_count": null,
      "outputs": [
        {
          "output_type": "execute_result",
          "data": {
            "text/plain": [
              "array([0., 0., 0., 0., 0., 0., 0., 0., 0., 0.])"
            ]
          },
          "metadata": {},
          "execution_count": 9
        }
      ]
    },
    {
      "cell_type": "markdown",
      "source": [
        "verificando o tamanho de cada dimensão do ndarray"
      ],
      "metadata": {
        "id": "CE6UxJqbMG8B"
      }
    },
    {
      "cell_type": "code",
      "source": [
        "b.shape"
      ],
      "metadata": {
        "colab": {
          "base_uri": "https://localhost:8080/"
        },
        "id": "Cfo7sx5gL9Lg",
        "outputId": "2f1c91aa-cf32-439b-948d-5a982c270f70"
      },
      "execution_count": null,
      "outputs": [
        {
          "output_type": "execute_result",
          "data": {
            "text/plain": [
              "(10,)"
            ]
          },
          "metadata": {},
          "execution_count": 10
        }
      ]
    },
    {
      "cell_type": "markdown",
      "source": [
        "mudando as dimensões do ndarray de 1D para 2D"
      ],
      "metadata": {
        "id": "_s981I4XMP3R"
      }
    },
    {
      "cell_type": "code",
      "source": [
        "b.shape = (10, 1)\n",
        "b"
      ],
      "metadata": {
        "colab": {
          "base_uri": "https://localhost:8080/"
        },
        "id": "KBdrf2stMAUg",
        "outputId": "67bb5ecd-a617-4633-e99b-f41a0eded615"
      },
      "execution_count": null,
      "outputs": [
        {
          "output_type": "execute_result",
          "data": {
            "text/plain": [
              "array([[0.],\n",
              "       [0.],\n",
              "       [0.],\n",
              "       [0.],\n",
              "       [0.],\n",
              "       [0.],\n",
              "       [0.],\n",
              "       [0.],\n",
              "       [0.],\n",
              "       [0.]])"
            ]
          },
          "metadata": {},
          "execution_count": 11
        }
      ]
    },
    {
      "cell_type": "code",
      "source": [
        "c = np.ones(10)\n",
        "c"
      ],
      "metadata": {
        "colab": {
          "base_uri": "https://localhost:8080/"
        },
        "id": "lPfpXuzCMXhZ",
        "outputId": "35548694-bae2-4e88-b985-0f08b8d7f2df"
      },
      "execution_count": null,
      "outputs": [
        {
          "output_type": "execute_result",
          "data": {
            "text/plain": [
              "array([1., 1., 1., 1., 1., 1., 1., 1., 1., 1.])"
            ]
          },
          "metadata": {},
          "execution_count": 12
        }
      ]
    },
    {
      "cell_type": "code",
      "source": [
        "d = np.empty(3)\n",
        "d"
      ],
      "metadata": {
        "colab": {
          "base_uri": "https://localhost:8080/"
        },
        "id": "V5anMdgHMdsw",
        "outputId": "61f7f357-276b-4c4c-fb12-62fd947d9880"
      },
      "execution_count": null,
      "outputs": [
        {
          "output_type": "execute_result",
          "data": {
            "text/plain": [
              "array([0., 0., 0.])"
            ]
          },
          "metadata": {},
          "execution_count": 17
        }
      ]
    },
    {
      "cell_type": "markdown",
      "source": [
        "indo de 2 até 0 usando apenas 5 elementos"
      ],
      "metadata": {
        "id": "9NuF2g6zNThJ"
      }
    },
    {
      "cell_type": "code",
      "source": [
        "e = np.linspace(2, 10, 5)\n",
        "e"
      ],
      "metadata": {
        "colab": {
          "base_uri": "https://localhost:8080/"
        },
        "id": "CxZZs7n_NH9b",
        "outputId": "db8c8322-0383-4370-d743-f50a7d2d324c"
      },
      "execution_count": null,
      "outputs": [
        {
          "output_type": "execute_result",
          "data": {
            "text/plain": [
              "array([ 2.,  4.,  6.,  8., 10.])"
            ]
          },
          "metadata": {},
          "execution_count": 19
        }
      ]
    },
    {
      "cell_type": "markdown",
      "source": [
        "convertendo os dados de uma lista para ndarray"
      ],
      "metadata": {
        "id": "5s_C4yXsNk4h"
      }
    },
    {
      "cell_type": "code",
      "source": [
        "f = np.array([10, 20])\n",
        "f"
      ],
      "metadata": {
        "colab": {
          "base_uri": "https://localhost:8080/"
        },
        "id": "zToS7vtcNcLJ",
        "outputId": "3f407004-7b30-49ec-b4f7-224764217b74"
      },
      "execution_count": null,
      "outputs": [
        {
          "output_type": "execute_result",
          "data": {
            "text/plain": [
              "array([10, 20])"
            ]
          },
          "metadata": {},
          "execution_count": 20
        }
      ]
    },
    {
      "cell_type": "code",
      "source": [
        "lista = [1, 2 , 3, 4, 5, 6, 7]\n",
        "f = np.array(lista)\n",
        "f"
      ],
      "metadata": {
        "colab": {
          "base_uri": "https://localhost:8080/"
        },
        "id": "iNSlOAXlNyTB",
        "outputId": "ad8e020d-15de-4780-b6bf-76fb42529e1b"
      },
      "execution_count": null,
      "outputs": [
        {
          "output_type": "execute_result",
          "data": {
            "text/plain": [
              "array([1, 2, 3, 4, 5, 6, 7])"
            ]
          },
          "metadata": {},
          "execution_count": 28
        }
      ]
    },
    {
      "cell_type": "code",
      "source": [
        "type(f)"
      ],
      "metadata": {
        "colab": {
          "base_uri": "https://localhost:8080/"
        },
        "id": "5obvwa-lOLnw",
        "outputId": "536edc33-6444-46bc-ff46-b6b5659e57f4"
      },
      "execution_count": null,
      "outputs": [
        {
          "output_type": "execute_result",
          "data": {
            "text/plain": [
              "numpy.ndarray"
            ]
          },
          "metadata": {},
          "execution_count": 29
        }
      ]
    },
    {
      "cell_type": "markdown",
      "source": [
        "ndarray de duas dimensões (2, 7) com duas linhas e sete colunas"
      ],
      "metadata": {
        "id": "_KE25w7hPBhR"
      }
    },
    {
      "cell_type": "code",
      "source": [
        "lista_b = [[9, 8, 7, 6, 5, 4, 3], [1, 2 , 3, 4, 5, 6, 7]]\n",
        "g = np.array(lista_b)\n",
        "g"
      ],
      "metadata": {
        "colab": {
          "base_uri": "https://localhost:8080/"
        },
        "id": "BFsR5ux_OiBJ",
        "outputId": "d2503a2e-60fb-4196-d47b-5922aca289a1"
      },
      "execution_count": null,
      "outputs": [
        {
          "output_type": "execute_result",
          "data": {
            "text/plain": [
              "array([[9, 8, 7, 6, 5, 4, 3],\n",
              "       [1, 2, 3, 4, 5, 6, 7]])"
            ]
          },
          "metadata": {},
          "execution_count": 30
        }
      ]
    },
    {
      "cell_type": "markdown",
      "source": [
        "? gera uma descrição sobre o atributo/função requisitada"
      ],
      "metadata": {
        "id": "7baOCoIHQ7Qx"
      }
    },
    {
      "cell_type": "code",
      "source": [
        "?g.shape"
      ],
      "metadata": {
        "id": "RekPX8prPTvp"
      },
      "execution_count": null,
      "outputs": []
    },
    {
      "cell_type": "markdown",
      "source": [
        "![image.png](data:image/png;base64,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)"
      ],
      "metadata": {
        "id": "KKQXZrgxQ3rY"
      }
    },
    {
      "cell_type": "markdown",
      "source": [
        "gerando uma lista com 6 números aleatórios de 0 a 10"
      ],
      "metadata": {
        "id": "35UTRbkhRl3Q"
      }
    },
    {
      "cell_type": "code",
      "source": [
        "np.random.seed(0)\n",
        "h = np.random.randint(10, size=6)\n",
        "h"
      ],
      "metadata": {
        "colab": {
          "base_uri": "https://localhost:8080/"
        },
        "id": "5L0rkUEzREG6",
        "outputId": "eed3e201-1214-429d-a7a3-90816af76e6e"
      },
      "execution_count": null,
      "outputs": [
        {
          "output_type": "execute_result",
          "data": {
            "text/plain": [
              "array([5, 0, 3, 3, 7, 9])"
            ]
          },
          "metadata": {},
          "execution_count": 47
        }
      ]
    },
    {
      "cell_type": "markdown",
      "source": [
        "retorna o valor presente no índice 0"
      ],
      "metadata": {
        "id": "RqYwfDzlR0BR"
      }
    },
    {
      "cell_type": "code",
      "source": [
        "h[0]"
      ],
      "metadata": {
        "colab": {
          "base_uri": "https://localhost:8080/"
        },
        "id": "5tbbVAsbRudo",
        "outputId": "7a515a14-280d-4087-eb59-ff73a8c10df5"
      },
      "execution_count": null,
      "outputs": [
        {
          "output_type": "execute_result",
          "data": {
            "text/plain": [
              "5"
            ]
          },
          "metadata": {},
          "execution_count": 48
        }
      ]
    },
    {
      "cell_type": "markdown",
      "source": [
        "uso do fatiamento para exibição dos valores nos índices 0 e 1"
      ],
      "metadata": {
        "id": "Ko_7_t6vR-ww"
      }
    },
    {
      "cell_type": "code",
      "source": [
        "h[0:2]"
      ],
      "metadata": {
        "colab": {
          "base_uri": "https://localhost:8080/"
        },
        "id": "DeJVoEV-R4jQ",
        "outputId": "b61bdd7d-d254-49fe-e484-d90ab3592bd4"
      },
      "execution_count": null,
      "outputs": [
        {
          "output_type": "execute_result",
          "data": {
            "text/plain": [
              "array([5, 0])"
            ]
          },
          "metadata": {},
          "execution_count": 49
        }
      ]
    },
    {
      "cell_type": "markdown",
      "source": [
        "exibindo o último elemento do array"
      ],
      "metadata": {
        "id": "eEaPEC6zSLV_"
      }
    },
    {
      "cell_type": "code",
      "source": [
        "h[-1]"
      ],
      "metadata": {
        "colab": {
          "base_uri": "https://localhost:8080/"
        },
        "id": "0DHRlazeSHmB",
        "outputId": "7a066b7d-b297-4382-b585-94cd2b91d1ed"
      },
      "execution_count": null,
      "outputs": [
        {
          "output_type": "execute_result",
          "data": {
            "text/plain": [
              "9"
            ]
          },
          "metadata": {},
          "execution_count": 50
        }
      ]
    },
    {
      "cell_type": "markdown",
      "source": [
        "\n",
        "> algumas funções são bem similares às funções utilizadas para iterar sobre listas no python\n",
        "\n"
      ],
      "metadata": {
        "id": "40PHgYn8SLHA"
      }
    }
  ]
}